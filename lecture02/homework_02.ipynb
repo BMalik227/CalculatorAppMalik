{
  "cells": [
    {
      "cell_type": "markdown",
      "metadata": {
        "id": "4xiFjfvglIju"
      },
      "source": [
        "(lecture02:homework02)=\n",
        "# Homework 2\n",
        "\n",
        "+ Type your name and email in the \"Student details\" section below.\n",
        "+ Develop the code and generate the figures you need to solve the problems using this notebook.\n",
        "+ For the answers that require a mathematical proof or derivation you can either:\n",
        "    \n",
        "    - Type the answer using the built-in latex capabilities. In this case, simply export the notebook as a pdf and upload it on gradescope; or\n",
        "    - You can print the notebook (after you are done with all the code), write your answers by hand, scan, turn your response to a single pdf, and upload on gradescope.\n",
        "\n",
        "+ The total homework points are 100. Please note that the problems are not weighed equally.\n",
        "\n",
        "```{note}\n",
        "+ This is due before the beginning of the next lecture.\n",
        "+ Please match all the pages corresponding to each of the questions when you submit on gradescope.\n",
        "```"
      ]
    },
    {
      "cell_type": "markdown",
      "metadata": {
        "id": "RojhaldzlIjw"
      },
      "source": [
        "## Student details\n",
        "\n",
        "+ **First Name: Ben**\n",
        "+ **Last Name: Malik**\n",
        "+ **Email: malik111@purdue.edu**"
      ]
    },
    {
      "cell_type": "markdown",
      "metadata": {
        "id": "W6qX09BllIjw"
      },
      "source": [
        "## Problem 1 - Lists\n",
        "\n",
        "Consider the following list:"
      ]
    },
    {
      "cell_type": "code",
      "execution_count": 9,
      "metadata": {
        "id": "fDYV0600lIjx",
        "outputId": "6d077910-b1df-404b-cd50-e68445bf76e0",
        "colab": {
          "base_uri": "https://localhost:8080/"
        }
      },
      "outputs": [
        {
          "output_type": "stream",
          "name": "stdout",
          "text": [
            "[1, 4, 3, 10, 4, 3, 4, 4]\n"
          ]
        }
      ],
      "source": [
        "data = [1, 4, 3, 10, 4, 3, 4, 4]\n",
        "print(data)"
      ]
    },
    {
      "cell_type": "markdown",
      "metadata": {
        "id": "4BcOE-aalIjx"
      },
      "source": [
        "Add the element 6 at the end of `data`:"
      ]
    },
    {
      "cell_type": "code",
      "execution_count": 10,
      "metadata": {
        "id": "x3txijR4lIjx",
        "outputId": "ebf9f3cd-fb68-47d7-b182-b230db104b8c",
        "colab": {
          "base_uri": "https://localhost:8080/"
        }
      },
      "outputs": [
        {
          "output_type": "stream",
          "name": "stdout",
          "text": [
            "[1, 4, 3, 10, 4, 3, 4, 4, 6]\n"
          ]
        }
      ],
      "source": [
        "data.append(6)\n",
        "print(data)"
      ]
    },
    {
      "cell_type": "markdown",
      "metadata": {
        "id": "TuXMrjWilIjx"
      },
      "source": [
        "Add the list [0, -1, 3] at the begining of `data`"
      ]
    },
    {
      "cell_type": "code",
      "execution_count": 11,
      "metadata": {
        "id": "-EQ5BymMlIjy",
        "outputId": "4fb3d6d3-b004-49df-de6f-c617af88837f",
        "colab": {
          "base_uri": "https://localhost:8080/"
        }
      },
      "outputs": [
        {
          "output_type": "stream",
          "name": "stdout",
          "text": [
            "[0, -1, 3, 1, 4, 3, 10, 4, 3, 4, 4, 6]\n"
          ]
        }
      ],
      "source": [
        "add_data = [0,-1,3]\n",
        "data = add_data+data\n",
        "print(data)"
      ]
    },
    {
      "cell_type": "markdown",
      "metadata": {
        "id": "dmXNJppVlIjy"
      },
      "source": [
        "How many elements are in the `data`?"
      ]
    },
    {
      "cell_type": "code",
      "execution_count": 12,
      "metadata": {
        "id": "CT8S6r4PlIjy",
        "outputId": "403fff99-aae2-4da1-d2ff-1a5b077014e5",
        "colab": {
          "base_uri": "https://localhost:8080/"
        }
      },
      "outputs": [
        {
          "output_type": "stream",
          "name": "stdout",
          "text": [
            "12\n"
          ]
        }
      ],
      "source": [
        "length = len(data)\n",
        "print(length)"
      ]
    },
    {
      "cell_type": "markdown",
      "metadata": {
        "id": "C9xb6DpKlIjy"
      },
      "source": [
        "Extract all `data` elements from the second to the second to last (inclusive)."
      ]
    },
    {
      "cell_type": "code",
      "execution_count": 14,
      "metadata": {
        "id": "p7ypyHt8lIjz",
        "outputId": "13575d13-46cf-4e4a-b846-46ee4a502de1",
        "colab": {
          "base_uri": "https://localhost:8080/"
        }
      },
      "outputs": [
        {
          "output_type": "stream",
          "name": "stdout",
          "text": [
            "[-1, 3, 1, 4, 3, 10, 4, 3, 4, 4]\n"
          ]
        }
      ],
      "source": [
        "extracted_data = data[1:11]\n",
        "print(extracted_data)"
      ]
    },
    {
      "cell_type": "markdown",
      "metadata": {
        "id": "RPY6X1g_lIjz"
      },
      "source": [
        "Extract all `data` elements from the second to the second to last (inclusive) skipping every other element."
      ]
    },
    {
      "cell_type": "code",
      "execution_count": null,
      "metadata": {
        "id": "UXLd8hmNlIjz"
      },
      "outputs": [],
      "source": [
        "# your code here"
      ]
    },
    {
      "cell_type": "markdown",
      "metadata": {
        "id": "xdXyDxh3lIjz"
      },
      "source": [
        "Sort the list."
      ]
    },
    {
      "cell_type": "code",
      "execution_count": null,
      "metadata": {
        "id": "MPnC-PRBlIjz"
      },
      "outputs": [],
      "source": [
        "# your code here"
      ]
    },
    {
      "cell_type": "markdown",
      "metadata": {
        "id": "QQGd1x5hlIjz"
      },
      "source": [
        "Find the minimum of the list."
      ]
    },
    {
      "cell_type": "code",
      "execution_count": null,
      "metadata": {
        "id": "kmqOEXUilIjz"
      },
      "outputs": [],
      "source": [
        "# your code here"
      ]
    },
    {
      "cell_type": "markdown",
      "metadata": {
        "id": "56kfqi1RlIjz"
      },
      "source": [
        "Find the average of the elements in the list."
      ]
    },
    {
      "cell_type": "code",
      "execution_count": null,
      "metadata": {
        "id": "cUyiZc7olIjz"
      },
      "outputs": [],
      "source": [
        "# your code here"
      ]
    },
    {
      "cell_type": "markdown",
      "metadata": {
        "id": "ossN-FDPlIjz"
      },
      "source": [
        "## Problem 2 - Numerical Python\n",
        "\n",
        "Let's make a random array:"
      ]
    },
    {
      "cell_type": "code",
      "execution_count": null,
      "metadata": {
        "id": "BfhrznNKlIj0"
      },
      "outputs": [],
      "source": [
        "import numpy as np\n",
        "np.random.seed(12345) # We need this so that we get the same numbers\n",
        "                      # every time we runt the following code\n",
        "x = np.random.randn(100)\n",
        "x"
      ]
    },
    {
      "cell_type": "markdown",
      "metadata": {
        "id": "UU2ue0lYlIj0"
      },
      "source": [
        "Find the minimum of ``x``."
      ]
    },
    {
      "cell_type": "code",
      "execution_count": null,
      "metadata": {
        "id": "NY49gjGdlIj0"
      },
      "outputs": [],
      "source": [
        "# your code here"
      ]
    },
    {
      "cell_type": "markdown",
      "metadata": {
        "id": "gXJDlhiblIj0"
      },
      "source": [
        "Find the maximum of ``x``."
      ]
    },
    {
      "cell_type": "markdown",
      "metadata": {
        "id": "OX6n3hDnlIj0"
      },
      "source": [
        "Find the maximum of ``x``."
      ]
    },
    {
      "cell_type": "code",
      "execution_count": null,
      "metadata": {
        "id": "Y0p_MiZ8lIj0"
      },
      "outputs": [],
      "source": [
        "# your code here"
      ]
    },
    {
      "cell_type": "markdown",
      "metadata": {
        "id": "-12vVZNhlIj0"
      },
      "source": [
        "Use ``x.shape`` to get the number of elements of ``x`` as an integer."
      ]
    },
    {
      "cell_type": "code",
      "execution_count": null,
      "metadata": {
        "id": "obOdBddBlIj0"
      },
      "outputs": [],
      "source": [
        "# your code here"
      ]
    },
    {
      "cell_type": "markdown",
      "metadata": {
        "id": "SMyJ2sX9lIj0"
      },
      "source": [
        "Find the sum of all the elements of ``x`` divided by the number of elements of ``x``. This is the average."
      ]
    },
    {
      "cell_type": "code",
      "execution_count": null,
      "metadata": {
        "id": "YEn1uBazlIj0"
      },
      "outputs": [],
      "source": [
        "# your code here"
      ]
    },
    {
      "cell_type": "markdown",
      "metadata": {
        "id": "QkrEC0NHlIj0"
      },
      "source": [
        "Compare the average you found above with the result of ``x.mean()``. Are they the same?"
      ]
    },
    {
      "cell_type": "code",
      "execution_count": null,
      "metadata": {
        "id": "X_ZLVrlRlIj0"
      },
      "outputs": [],
      "source": [
        "# your code here"
      ]
    },
    {
      "cell_type": "markdown",
      "metadata": {
        "id": "EIqCmpeQlIj0"
      },
      "source": [
        "Square the elements of ``x`` and store them in a new array called ``x2``."
      ]
    },
    {
      "cell_type": "code",
      "execution_count": null,
      "metadata": {
        "id": "0D3iaYx7lIj0"
      },
      "outputs": [],
      "source": [
        "# your code here"
      ]
    },
    {
      "cell_type": "markdown",
      "metadata": {
        "id": "v-de1Cf2lIj0"
      },
      "source": [
        "Find the average of ``x2`` and subtract from it the square of average of ``x``."
      ]
    },
    {
      "cell_type": "code",
      "execution_count": null,
      "metadata": {
        "id": "UQIvjuxdlIj0"
      },
      "outputs": [],
      "source": [
        "# your code here"
      ]
    },
    {
      "cell_type": "markdown",
      "metadata": {
        "id": "xRq3DlIvlIj1"
      },
      "source": [
        "Compare the result you found on the cell above with ``x.var()``. Are they the same? (Remark: You just calculated the empirical variance of the \"data\" ``x`` in two different ways!)"
      ]
    },
    {
      "cell_type": "code",
      "execution_count": null,
      "metadata": {
        "id": "Jl8ZP2wIlIj1"
      },
      "outputs": [],
      "source": [
        "# your code here"
      ]
    }
  ],
  "metadata": {
    "kernelspec": {
      "display_name": "Python 3",
      "language": "python",
      "name": "python3"
    },
    "language_info": {
      "codemirror_mode": {
        "name": "ipython",
        "version": 3
      },
      "file_extension": ".py",
      "mimetype": "text/x-python",
      "name": "python",
      "nbconvert_exporter": "python",
      "pygments_lexer": "ipython3",
      "version": "3.8.8"
    },
    "colab": {
      "provenance": []
    }
  },
  "nbformat": 4,
  "nbformat_minor": 0
}